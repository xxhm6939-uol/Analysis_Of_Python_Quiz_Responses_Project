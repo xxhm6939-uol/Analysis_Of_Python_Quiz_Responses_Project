{
 "cells": [
  {
   "cell_type": "markdown",
   "id": "340bdc5e",
   "metadata": {},
   "source": [
    "In my review, i will anaylize the code and use the 3R as my criteria.\n",
    "\n",
    "3R : Readable, Reuseable, Resilient\n",
    "\n",
    "M1: Following good readable principle, all the functions and varience clearly show what it means. And all the function can reuse for other questionnaire if the questionnaire have same title \"Question\" and 4 option A,B,C and D. However, M1's code is lack of resilient, bucause this is no expection handing, such as return ErrorValue.\n",
    "\n",
    "M2: In your original code, all your return massage is HTML not txt. which means you haven't debug or check any of your result. Because google drive folder can not read python directly. Hope next time you can learn how to use debug and use API.\n",
    "However, you show good redable ability, all the functions can easy to understand and use.\n",
    "Your code also show a strong resilient ability.For instance, exist_ok=True can sure folder exist, avdio error.\n",
    "\n",
    "M3: The visualization module follow well to the 3R principles. It is readable, with clear structure and comments. This module also follow to reuseable, as the structure seperater to each part step by step. The code is following resilient as it will print Errorvalue when n!=1 or 2 .However, the code is lack of efficiency, if use return to output ErrorValue might be better.\n",
    "\n",
    "M4: The full analysis module also following readable, with annotation and good functions name.\n",
    "The structure is good. However, it lack of resilient. No code can return errorvalue if any previous file can not work. "
   ]
  },
  {
   "cell_type": "code",
   "execution_count": null,
   "id": "6734f387",
   "metadata": {
    "vscode": {
     "languageId": "plaintext"
    }
   },
   "outputs": [],
   "source": []
  }
 ],
 "metadata": {
  "language_info": {
   "name": "python"
  }
 },
 "nbformat": 4,
 "nbformat_minor": 5
}

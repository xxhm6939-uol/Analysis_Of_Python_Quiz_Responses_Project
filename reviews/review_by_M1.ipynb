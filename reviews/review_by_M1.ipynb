{
 "cells": [
  {
   "cell_type": "markdown",
   "id": "77c86c6e",
   "metadata": {},
   "source": [
    "## M1 Review (Self Review)"
   ]
  },
  {
   "cell_type": "code",
   "execution_count": 2,
   "id": "013650fe",
   "metadata": {},
   "outputs": [],
   "source": [
    "def extract_answers_sequence(string_file_path):\n",
    "\n",
    "    answers = []   # creates an empty list to store the answer values \n",
    "    current_answer = 0 \n",
    "    i = 0 \n",
    "\n",
    "    with open(string_file_path, 'r', encoding = 'utf-8') as file:\n",
    "        survey = file.readlines()      # opens the file to read only \n",
    "\n",
    "\n",
    "    while i < len(survey):\n",
    "        text = survey[i].strip()\n",
    "\n",
    "        if text.startswith(\"Question\"):\n",
    "            current_answer = 0   # if a line starts with \"Question\", current answer remains 0 \n",
    "            question_block = survey[i+1:i+5]\n",
    "\n",
    "            k = 0\n",
    "\n",
    "            for answer_line in question_block:\n",
    "                answer_line = answer_line.strip()\n",
    "                if '[x]' in answer_line:\n",
    "                    current_answer = 1 + k \n",
    "                    break\n",
    "                k +=1\n",
    "            answers.append(current_answer)\n",
    "            i += 5\n",
    "\n",
    "        else:\n",
    "            i += 1\n",
    "\n",
    "    return answers\n",
    "\n",
    "\n",
    "#string_file_path = \"data/answers_respondent_2.txt\"\n",
    "#list_answers = extract_answers_sequence(string_file_path)\n",
    "#print(list_answers)\n",
    "\n",
    "#list_answers = extract_answers_sequence(\"data/raw_answers/answers_respondent_1.txt\")\n",
    "def write_answers_sequence(list_answers, int_n):\n",
    "    new_text_file = f\"data/answers_list_respondent_{int_n}.txt\"\n",
    "    \n",
    "    with open(new_text_file, 'w') as file:\n",
    "        file.writelines(f\"{answer}\\n\" for answer in list_answers)    # sets new name to the text file containing answers list\n",
    "    \n",
    "    print(f\"Answers saved to text file!\")\n",
    "\n"
   ]
  },
  {
   "cell_type": "markdown",
   "id": "19f6443c",
   "metadata": {},
   "source": [
    "M1's responsibility was to extract all answers from the raw data and collect them in individual text files for each respondent. The code also sets a new name to these individual answer files as answers_list_respondent{i}.txt. \n",
    "\n",
    "The code is structured well, distringuishing each function. It has some comments throughout explaining the purpose of different blocks. \n",
    "\n",
    "Contains print statements for clarity when running and makes use of sample data to test functions (in comments).\n",
    "\n",
    "Print statements can be clearer by specifying which respondent's answers are being saved. \n",
    "\n",
    "To improve, integrate try/except statements for error handling as it assumes there is a line with \"[x]\" after \"Question\". "
   ]
  },
  {
   "cell_type": "markdown",
   "id": "b17a6167",
   "metadata": {},
   "source": [
    "## M2 Review"
   ]
  },
  {
   "cell_type": "code",
   "execution_count": 4,
   "id": "7f63965c",
   "metadata": {},
   "outputs": [
    {
     "name": "stdout",
     "output_type": "stream",
     "text": [
      "Requirement already satisfied: gdown in /Library/Frameworks/Python.framework/Versions/3.13/lib/python3.13/site-packages (5.2.0)\n",
      "Requirement already satisfied: beautifulsoup4 in /Library/Frameworks/Python.framework/Versions/3.13/lib/python3.13/site-packages (from gdown) (4.13.3)\n",
      "Requirement already satisfied: filelock in /Library/Frameworks/Python.framework/Versions/3.13/lib/python3.13/site-packages (from gdown) (3.18.0)\n",
      "Requirement already satisfied: requests[socks] in /Library/Frameworks/Python.framework/Versions/3.13/lib/python3.13/site-packages (from gdown) (2.32.3)\n",
      "Requirement already satisfied: tqdm in /Library/Frameworks/Python.framework/Versions/3.13/lib/python3.13/site-packages (from gdown) (4.67.1)\n",
      "Requirement already satisfied: soupsieve>1.2 in /Library/Frameworks/Python.framework/Versions/3.13/lib/python3.13/site-packages (from beautifulsoup4->gdown) (2.6)\n",
      "Requirement already satisfied: typing-extensions>=4.0.0 in /Library/Frameworks/Python.framework/Versions/3.13/lib/python3.13/site-packages (from beautifulsoup4->gdown) (4.12.2)\n",
      "Requirement already satisfied: charset-normalizer<4,>=2 in /Library/Frameworks/Python.framework/Versions/3.13/lib/python3.13/site-packages (from requests[socks]->gdown) (3.4.1)\n",
      "Requirement already satisfied: idna<4,>=2.5 in /Library/Frameworks/Python.framework/Versions/3.13/lib/python3.13/site-packages (from requests[socks]->gdown) (3.10)\n",
      "Requirement already satisfied: urllib3<3,>=1.21.1 in /Library/Frameworks/Python.framework/Versions/3.13/lib/python3.13/site-packages (from requests[socks]->gdown) (2.3.0)\n",
      "Requirement already satisfied: certifi>=2017.4.17 in /Library/Frameworks/Python.framework/Versions/3.13/lib/python3.13/site-packages (from requests[socks]->gdown) (2025.1.31)\n",
      "Requirement already satisfied: PySocks!=1.5.7,>=1.5.6 in /Library/Frameworks/Python.framework/Versions/3.13/lib/python3.13/site-packages (from requests[socks]->gdown) (1.7.1)\n"
     ]
    },
    {
     "name": "stderr",
     "output_type": "stream",
     "text": [
      "\n",
      "\u001b[1m[\u001b[0m\u001b[34;49mnotice\u001b[0m\u001b[1;39;49m]\u001b[0m\u001b[39;49m A new release of pip is available: \u001b[0m\u001b[31;49m25.0.1\u001b[0m\u001b[39;49m -> \u001b[0m\u001b[32;49m25.1.1\u001b[0m\n",
      "\u001b[1m[\u001b[0m\u001b[34;49mnotice\u001b[0m\u001b[1;39;49m]\u001b[0m\u001b[39;49m To update, run: \u001b[0m\u001b[32;49mpip3 install --upgrade pip\u001b[0m\n"
     ]
    }
   ],
   "source": [
    "import os\n",
    "import subprocess\n",
    "\n",
    "import sys\n",
    "\n",
    "# dowmload gdown\n",
    "subprocess.check_call([sys.executable, \"-m\", \"pip\", \"install\", \"gdown\"])\n",
    "def download_answer_files(cloud_url, path_to_data_folder, respondent_index):\n",
    "\n",
    "    os.makedirs(path_to_data_folder, exist_ok=True)\n",
    "\n",
    "    \n",
    "\n",
    "    # gdown --folder URL -O path\n",
    "    command = [\n",
    "        \"gdown\",\n",
    "        \"--folder\",\n",
    "        cloud_url,\n",
    "        \"-O\",\n",
    "        path_to_data_folder\n",
    "    ]\n",
    "\n",
    "    try:\n",
    "        subprocess.run(command, check=True)\n",
    "        print(\" Download complete.\")\n",
    "    except Exception as e:\n",
    "        print(f\" Download failed: {e}\")\n",
    "        return\n",
    "\n",
    "    # a1.txt rename to answers_respondent_1.txt \n",
    "    for i in range(1, respondent_index + 1):\n",
    "        original = os.path.join(path_to_data_folder, f\"a{i}.txt\")\n",
    "        renamed = os.path.join(path_to_data_folder, f\"answers_respondent_{i}.txt\")\n",
    "        if os.path.exists(original):\n",
    "            os.rename(original, renamed)\n",
    "            print(f\" Renamed {original} → {renamed}\")\n",
    "        else:\n",
    "            print(f\" File missing: {original}\")\n",
    "\n",
    "\n",
    "def collate_answer_files(data_folder_path):\n",
    "    \n",
    "    os.makedirs(\"output\", exist_ok=True)\n",
    "    output_path = os.path.join(\"output\", \"collated_answers.txt\")\n",
    "\n",
    "    with open(output_path, 'w', encoding='utf-8') as outfile:\n",
    "        for filename in sorted(os.listdir(data_folder_path)):\n",
    "            if filename.startswith(\"answers_list_respondent_\") and filename.endswith(\".txt\"):\n",
    "                file_path = os.path.join(data_folder_path, filename)\n",
    "                with open(file_path, 'r', encoding='utf-8') as infile:\n",
    "                    outfile.write(infile.read())\n",
    "                    outfile.write(\"*\\n\")\n",
    "\n",
    "    print(f\"Collation complete: {output_path}\")\n",
    "    print(\" Collate function has run.\")\n",
    "\n"
   ]
  },
  {
   "cell_type": "markdown",
   "id": "31d19b41",
   "metadata": {},
   "source": [
    "M2's code consists of two functions, which aim to download and rename raw data files containing questions and answers, as well as collecting all respondents' answers into a single file. \n",
    "\n",
    "M2's code is well structured and easy to read. They have added comments throughout the code, explaining what each block does. This makes it easier to follow. \n",
    "\n",
    "They have added print statements throughout, which is useful for debugging.\n",
    "\n",
    "The code follows the assignment's function guidelines.\n",
    "\n",
    "Running time is 0.2 seconds. \n",
    "\n",
    "M2 could could add more commens, explaining individual lines of code (not all). \n",
    "\n",
    "Could try using try/except statements for error handling in case gdown isn't imported properly. "
   ]
  },
  {
   "cell_type": "markdown",
   "id": "ad0bad87",
   "metadata": {},
   "source": [
    "## M3 Review"
   ]
  },
  {
   "cell_type": "code",
   "execution_count": 5,
   "id": "e7ea7765",
   "metadata": {},
   "outputs": [],
   "source": [
    "import matplotlib.pyplot as plt\n",
    "\n",
    "def load_sequences(collated_answers_path):\n",
    "    sequences = []\n",
    "    \n",
    "    # open, read and close file. named file as \"f\". \n",
    "    with open(collated_answers_path, 'r',encoding='utf-8') as f:\n",
    "        # read text, clean text(\\n) in opening/ closing and sperate answer from 4 answerers(by using *).\n",
    "        blocks = f.read().strip().split(\"*\\n\")  \n",
    "        for block in blocks:\n",
    "            # turn text to string\n",
    "            lines = block.strip().splitlines()\n",
    "            # turn string to integers\n",
    "            sequence = [int(x.strip()) for x in lines if x.strip().isdigit()]\n",
    "            if len(sequence)==100:\n",
    "        \n",
    "                sequences.append(sequence)\n",
    "            else:\n",
    "                print(\"incomplete sequence\")\n",
    "    return sequences\n",
    "    \n",
    "def generate_means_sequence(collated_answers_path):\n",
    "# if seq[i]!= 0, add seq[i] in values.\n",
    "    sequences = load_sequences(collated_answers_path)\n",
    "    means=[]\n",
    "    for i in range(100):\n",
    "        values = [seq[i] for seq in sequences if seq[i] != 0]\n",
    "        mean = sum(values) / len(values) if values else 0\n",
    "        means.append(mean)\n",
    "    return means\n",
    "\n",
    "def visualize_data(collated_answers_path, n):\n",
    "    sequences = load_sequences(collated_answers_path)\n",
    "    # draw the average value of all the answer (exclude 0)\n",
    "    if n == 1:\n",
    "        means = generate_means_sequence(collated_answers_path)\n",
    "        plt.scatter(range(1, 101), means)\n",
    "        plt.title(\"Mean Answer Value per Question\")\n",
    "        plt.xlabel(\"Question Number\")\n",
    "        plt.ylabel(\"Mean Answer (1–4)\")\n",
    "    # draw every one(4 mumber) answer line.\n",
    "    elif n == 2:\n",
    "        for seq in sequences:\n",
    "            plt.plot(range(1, 101), seq)\n",
    "        plt.title(\"All Respondents’ Answer Sequences\")\n",
    "        plt.xlabel(\"Question Number\")\n",
    "        plt.ylabel(\"Answer (1–4 or 0)\")\n",
    "    else:\n",
    "        print(\"Error: Invalid plot option. n must be 1 or 2.\")\n",
    "        return\n",
    "    plt.grid(True)\n",
    "    plt.show()\n"
   ]
  },
  {
   "cell_type": "markdown",
   "id": "b2ff6aa3",
   "metadata": {},
   "source": [
    "M3 was in charge of computing statistics and providing visual insights of the data into potential patterns. The code generates a scatter plot at the end, showing clear patterns. \n",
    "\n",
    "The code is well structured with comments throughout, making it easier to follow and understand what's happening. \n",
    "\n",
    "M2 has organised their code and distinguished their functions, so it is neat and readable. \n",
    "\n",
    "Code's running time is 0.2 seconds, so runs efficiently and fast. \n",
    "\n",
    "Makes use of appropriate libraries and functions to produce visualisations.\n",
    "\n",
    "The plot is well presented with appropriate titles and labels. \n",
    "\n",
    "The code should consist of two functions instead of three. \n",
    "\n",
    "Could specify which sequence is missing when printing statement \"missing sequence\"."
   ]
  },
  {
   "cell_type": "markdown",
   "id": "515f4ca2",
   "metadata": {},
   "source": [
    "## M4 Review "
   ]
  },
  {
   "cell_type": "code",
   "execution_count": 1,
   "id": "93b0001d",
   "metadata": {},
   "outputs": [
    {
     "name": "stdout",
     "output_type": "stream",
     "text": [
      "==================================================\n"
     ]
    },
    {
     "ename": "NameError",
     "evalue": "name 'download_answer_files' is not defined",
     "output_type": "error",
     "traceback": [
      "\u001b[31m---------------------------------------------------------------------------\u001b[39m",
      "\u001b[31mNameError\u001b[39m                                 Traceback (most recent call last)",
      "\u001b[36mCell\u001b[39m\u001b[36m \u001b[39m\u001b[32mIn[1]\u001b[39m\u001b[32m, line 31\u001b[39m\n\u001b[32m     26\u001b[39m     visualize_data(collated_file_path, plot_mode)\n\u001b[32m     30\u001b[39m \u001b[38;5;28;01mif\u001b[39;00m \u001b[34m__name__\u001b[39m == \u001b[33m\"\u001b[39m\u001b[33m__main__\u001b[39m\u001b[33m\"\u001b[39m:\n\u001b[32m---> \u001b[39m\u001b[32m31\u001b[39m     \u001b[43mrun_full_analysis\u001b[49m\u001b[43m(\u001b[49m\u001b[43m)\u001b[49m\n",
      "\u001b[36mCell\u001b[39m\u001b[36m \u001b[39m\u001b[32mIn[1]\u001b[39m\u001b[32m, line 16\u001b[39m, in \u001b[36mrun_full_analysis\u001b[39m\u001b[34m()\u001b[39m\n\u001b[32m     13\u001b[39m plot_mode = \u001b[32m1\u001b[39m,\u001b[32m2\u001b[39m  \n\u001b[32m     15\u001b[39m \u001b[38;5;28mprint\u001b[39m(\u001b[33m\"\u001b[39m\u001b[33m=\u001b[39m\u001b[33m\"\u001b[39m*\u001b[32m50\u001b[39m)\n\u001b[32m---> \u001b[39m\u001b[32m16\u001b[39m \u001b[43mdownload_answer_files\u001b[49m(cloud_url, data_folder, respondent_index)\n\u001b[32m     18\u001b[39m \u001b[38;5;28;01mfor\u001b[39;00m i \u001b[38;5;129;01min\u001b[39;00m \u001b[38;5;28mrange\u001b[39m(\u001b[32m1\u001b[39m, respondent_index + \u001b[32m1\u001b[39m):\n\u001b[32m     19\u001b[39m     input_file = os.path.join(data_folder, \u001b[33mf\u001b[39m\u001b[33m\"\u001b[39m\u001b[33manswers_respondent_\u001b[39m\u001b[38;5;132;01m{\u001b[39;00mi\u001b[38;5;132;01m}\u001b[39;00m\u001b[33m.txt\u001b[39m\u001b[33m\"\u001b[39m)\n",
      "\u001b[31mNameError\u001b[39m: name 'download_answer_files' is not defined"
     ]
    }
   ],
   "source": [
    "#import os\n",
    "#from data_preparation_M2 import download_answer_files, collate_answer_files\n",
    "#from data_extraction_M1 import extract_answers_sequence, write_answers_sequence\n",
    "#from data_analysis_M3 import visualize_data\n",
    "\n",
    "def run_full_analysis():\n",
    "\n",
    "    cloud_url = \"https://drive.google.com/drive/folders/1wq4I1RFFIZ7fz0tQ9ojcBSOHFe1AX95y?usp=sharing\"\n",
    "    data_folder = \"data/raw_answers\"\n",
    "    structured_folder = \"data\"\n",
    "    collated_file_path = \"output/collated_answers.txt\"\n",
    "    respondent_index = 25\n",
    "    plot_mode = 1,2  \n",
    "\n",
    "    print(\"=\"*50)\n",
    "    download_answer_files(cloud_url, data_folder, respondent_index)\n",
    "\n",
    "    for i in range(1, respondent_index + 1):\n",
    "        input_file = os.path.join(data_folder, f\"answers_respondent_{i}.txt\")\n",
    "        answers = extract_answers_sequence(input_file)\n",
    "        write_answers_sequence(answers, i)\n",
    "\n",
    "    collate_answer_files(structured_folder)\n",
    "\n",
    "\n",
    "    visualize_data(collated_file_path, plot_mode)\n",
    "\n",
    "\n",
    "\n",
    "if __name__ == \"__main__\":\n",
    "    run_full_analysis()"
   ]
  },
  {
   "cell_type": "markdown",
   "id": "b3099914",
   "metadata": {},
   "source": [
    "M4 was in charge of leading the group and ensuring the project gets done smoothly by ensuring all members could access the folder and contribute effectively. Their code integrates all modules - requires M1, M2, and M3 to have completed their scripts. \n",
    "\n",
    "M4's code consists of a single function, as required.\n",
    "\n",
    "M4 uses data_preparation_M2.py to download and collate answer files. Then data_extraction_M1.py to extract all answer sequences from each respondent's file. Lastly, they used data_analysis_M3.py to compute statistics and suggest the patterns shown. \n",
    "\n",
    "Code is well structured, readable and organised. They add comments to show which team member's work is being carried out at which stage. \n",
    "\n",
    "M4 could add a print statement, throughout the code or at the end once the process is complete for clarity. "
   ]
  }
 ],
 "metadata": {
  "kernelspec": {
   "display_name": "Python 3",
   "language": "python",
   "name": "python3"
  },
  "language_info": {
   "codemirror_mode": {
    "name": "ipython",
    "version": 3
   },
   "file_extension": ".py",
   "mimetype": "text/x-python",
   "name": "python",
   "nbconvert_exporter": "python",
   "pygments_lexer": "ipython3",
   "version": "3.13.2"
  }
 },
 "nbformat": 4,
 "nbformat_minor": 5
}

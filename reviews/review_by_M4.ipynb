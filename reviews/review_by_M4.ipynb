{
 "cells": [
  {
   "cell_type": "code",
   "execution_count": null,
   "id": "7158379f",
   "metadata": {
    "vscode": {
     "languageId": "plaintext"
    }
   },
   "outputs": [],
   "source": [
    "def extract_answers_sequence(string_file_path):\n",
    "\n",
    "    answers = []   # creates an empty list to store the answer values \n",
    "    current_answer = 0 \n",
    "    i = 0 \n",
    "\n",
    "    with open(string_file_path, 'r', encoding = 'utf-8') as file:\n",
    "        survey = file.readlines()      # opens the file to read only \n",
    "\n",
    "    while i < len(survey):\n",
    "        text = survey[i].strip()\n",
    "\n",
    "        if text.startswith(\"Question\"):\n",
    "            current_answer = 0   # if a line starts with \"Question\", current answer remains 0 \n",
    "            question_block = survey[i+1:i+5]\n",
    "\n",
    "            k = 0\n",
    "\n",
    "            for answer_line in question_block:\n",
    "                answer_line = answer_line.strip()\n",
    "                if '[x]' in answer_line:\n",
    "                    current_answer = 1 + k \n",
    "                    break\n",
    "                k +=1\n",
    "\n",
    "            answers.append(current_answer)\n",
    "            i += 5\n",
    "    \n",
    "        else:\n",
    "            i += 1\n",
    "\n",
    "    return answers\n"
   ]
  },
  {
   "cell_type": "markdown",
   "id": "51765d4d",
   "metadata": {},
   "source": [
    "### Member 1 review (Extract_answers_sequence Function)\n",
    "\n",
    "Strengths\n",
    "- Detects lines starting with \n",
    "- "
   ]
  },
  {
   "cell_type": "code",
   "execution_count": null,
   "id": "4144612e",
   "metadata": {
    "vscode": {
     "languageId": "plaintext"
    }
   },
   "outputs": [],
   "source": [
    "#list_answers = extract_answers_sequence(\"data/raw_answers/answers_respondent_1.txt\")\n",
    "def write_answers_sequence(list_answers, int_n):\n",
    "    new_text_file = f\"data/answers_list_respondent_{int_n}.txt\"\n",
    "    with open(new_text_file, 'w') as file:\n",
    "        file.writelines(f\"{answer}\\n\" for answer in list_answers)    # sets new name to the text file containing answers list\n",
    "    \n",
    "    print(f\"Answers saved to text file!\")\n",
    "\n",
    "for i in range(1, 26):\n",
    "    input_path = f\"data/raw_answers/answers_respondent_{i}.txt\"\n",
    "    answers = extract_answers_sequence(input_path)\n",
    "    print(f\"Respondent {i}: extracted {len(answers)} answers\")\n",
    "    write_answers_sequence(answers, i)\n",
    "answers = extract_answers_sequence(\"data/raw_answers/answers_respondent_2.txt\")\n",
    "print(answers)"
   ]
  }
 ],
 "metadata": {
  "language_info": {
   "name": "python"
  }
 },
 "nbformat": 4,
 "nbformat_minor": 5
}

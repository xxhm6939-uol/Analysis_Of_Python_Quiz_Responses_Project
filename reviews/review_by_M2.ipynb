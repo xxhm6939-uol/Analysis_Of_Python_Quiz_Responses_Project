{
 "cells": [
  {
   "cell_type": "markdown",
   "id": "bd84c6ea",
   "metadata": {},
   "source": [
    "# Review by M2\n",
    "I am Team Member 2. I was responsible for the Download and Collation Module.\n",
    "My job was to write two functions:\n",
    "\t•\tOne function to download answer files from the cloud and rename them.\n",
    "\t•\tOne function to combine all the answer files into one final output file.\n",
    "These functions are written in data_preparation_M2.py."
   ]
  },
  {
   "cell_type": "markdown",
   "id": "460b8b36",
   "metadata": {},
   "source": [
    "# Explanation of `gdown` Installation Block"
   ]
  },
  {
   "cell_type": "code",
   "execution_count": null,
   "id": "460b8b36",
   "metadata": {},
   "outputs": [],
   "source": [
    "import os\n",
    "import subprocess\n",
    "import sys\n",
    "\n",
    "# dowmload gdown\n",
    "subprocess.check_call([sys.executable, \"-m\", \"pip\", \"install\", \"gdown\"])"
   ]
  },
  {
   "cell_type": "markdown",
   "id": "8d4781d8",
   "metadata": {},
   "source": [
    "This code ensures that the required package `gdown` is installed before proceeding.\n",
    "\n",
    "* It imports the necessary system libraries: `os`, `subprocess`, and `sys`.\n",
    "* It uses `subprocess.check_call()` to run the command-line instruction for installing `gdown` with `pip`.\n",
    "* The expression `sys.executable` ensures that the correct Python interpreter is used, even inside a virtual environment.\n",
    "* This step allows the script to download files from Google Drive using the `gdown` command later in the workflow.\n",
    "\n",
    "This installation step makes the code more portable, ensuring it can run even if `gdown` is not already installed on the machine."
   ]
  },
  {
   "cell_type": "markdown",
   "id": "e97fb3b1",
   "metadata": {},
   "source": [
    "# Explanation of `download_answer_files()` Function"
   ]
  },
  {
   "cell_type": "code",
   "execution_count": null,
   "id": "00ed7c27",
   "metadata": {},
   "outputs": [],
   "source": [
    "def download_answer_files(cloud_url, path_to_data_folder, respondent_index):\n",
    "\n",
    "    os.makedirs(path_to_data_folder, exist_ok=True)\n",
    "\n",
    "    # gdown --folder URL -O path\n",
    "    command = [\n",
    "        \"gdown\",\n",
    "        \"--folder\",\n",
    "        cloud_url,\n",
    "        \"-O\",\n",
    "        path_to_data_folder\n",
    "    ]\n",
    "\n",
    "    try:\n",
    "        subprocess.run(command, check=True)\n",
    "        print(\" Download complete.\")\n",
    "    except Exception as e:\n",
    "        print(f\" Download failed: {e}\")\n",
    "        return\n",
    "\n",
    "    # a1.txt rename to answers_respondent_1.txt \n",
    "    for i in range(1, respondent_index + 1):\n",
    "        original = os.path.join(path_to_data_folder, f\"a{i}.txt\")\n",
    "        renamed = os.path.join(path_to_data_folder, f\"answers_respondent_{i}.txt\")\n",
    "        if os.path.exists(original):\n",
    "            os.rename(original, renamed)\n",
    "            print(f\" Renamed {original} → {renamed}\")\n",
    "        else:\n",
    "            print(f\" File missing: {original}\")\n"
   ]
  },
  {
   "cell_type": "markdown",
   "id": "2ec9c5dc",
   "metadata": {},
   "source": [
    "This function is used to download answer files from a shared Google Drive folder and rename them into a standard format.\n",
    "\n",
    "* The first line creates the target folder (if it doesn't exist) using `os.makedirs()`.\n",
    "* It then constructs a `gdown` command to download the folder from the given URL.\n",
    "* The `subprocess.run()` command is used to execute the download; if it fails, an error message is shown.\n",
    "* After downloading, the function loops through all expected files (e.g. `a1.txt`, `a2.txt`, ...).\n",
    "* Each file is checked using `os.path.exists()`. If it exists, it is renamed to the format `answers_respondent_X.txt`.\n",
    "* Each success or missing file is reported using `print()`.\n",
    "\n",
    "This function helps automate the preparation of raw input files for analysis.\n"
   ]
  },
  {
   "cell_type": "markdown",
   "id": "767859fb",
   "metadata": {},
   "source": [
    "# Explanation of `collate_answer_files()` Function"
   ]
  },
  {
   "cell_type": "code",
   "execution_count": null,
   "id": "55ca6ef6",
   "metadata": {},
   "outputs": [],
   "source": [
    "def collate_answer_files(data_folder_path):\n",
    "    \n",
    "    os.makedirs(\"output\", exist_ok=True)\n",
    "    output_path = os.path.join(\"output\", \"collated_answers.txt\")\n",
    "\n",
    "    with open(output_path, 'w', encoding='utf-8') as outfile:\n",
    "        for filename in sorted(os.listdir(data_folder_path)):\n",
    "            if filename.startswith(\"answers_list_respondent_\") and filename.endswith(\".txt\"):\n",
    "                file_path = os.path.join(data_folder_path, filename)\n",
    "                with open(file_path, 'r', encoding='utf-8') as infile:\n",
    "                    outfile.write(infile.read())\n",
    "                    outfile.write(\"*\\n\")\n",
    "\n",
    "    print(f\"Collation complete: {output_path}\")\n",
    "    print(\" Collate function has run.\")\n",
    "from data_preparation_M2 import collate_answer_files\n",
    "collate_answer_files(\"data\")\n"
   ]
  },
  {
   "cell_type": "markdown",
   "id": "416783aa",
   "metadata": {},
   "source": [
    "This function merges all respondent answer files into one combined output file.\n",
    "\n",
    "* It first ensures the `output/` folder exists using `os.makedirs()`.\n",
    "* It creates a new file called `collated_answers.txt` for writing the merged content.\n",
    "* It loops through all files in the data folder that match the naming pattern `answers_list_respondent_X.txt`.\n",
    "* For each file, it opens and reads the content, then writes it into the output file.\n",
    "* After each respondent’s answers, it adds a `*` symbol as a separator.\n",
    "* At the end, it prints a confirmation message.\n",
    "\n",
    "This function ensures that all cleaned data is stored in a single file for easy access and further analysis.\n"
   ]
  },
  {
   "cell_type": "markdown",
   "id": "f0542883",
   "metadata": {},
   "source": [
    "# Explanation of Manual Renaming Script"
   ]
  },
  {
   "cell_type": "code",
   "execution_count": null,
   "id": "4fc57bd0",
   "metadata": {},
   "outputs": [],
   "source": [
    "#rename to standard format\n",
    "import os\n",
    "\n",
    "folder = \"data/quiz_answers_named_a1_to_a25\"\n",
    "\n",
    "for i in range(1, 26):\n",
    "    old_name = f\"a{i}.txt\"\n",
    "    new_name = f\"answers_respondent_{i}.txt\"\n",
    "    old_path = os.path.join(folder, old_name)\n",
    "    new_path = os.path.join(\"data\", new_name)\n",
    "\n",
    "    if os.path.exists(old_path):\n",
    "        os.rename(old_path, new_path)\n",
    "        print(f\"Renamed {old_name} → {new_name}\")\n",
    "    else:\n",
    "        print(f\"{old_name} not found\")"
   ]
  },
  {
   "cell_type": "markdown",
   "id": "4065c7b2",
   "metadata": {},
   "source": [
    "This script is used to rename raw files extracted from a zip folder into a standardized format.\n",
    "\n",
    "* It loops through numbers 1 to 25 and builds original file names like `a1.txt`, `a2.txt`, etc.\n",
    "* For each file, it constructs the new name `answers_respondent_X.txt`.\n",
    "* It uses `os.path.exists()` to check if the original file exists.\n",
    "* If the file is found, it uses `os.rename()` to rename it.\n",
    "* Each action is logged using `print()` to show success or missing files.\n",
    "\n",
    "This script is useful when files are provided locally without using the download function."
   ]
  }
 ],
 "metadata": {
  "kernelspec": {
   "display_name": "Python 3",
   "language": "python",
   "name": "python3"
  },
  "language_info": {
   "codemirror_mode": {
    "name": "ipython",
    "version": 3
   },
   "file_extension": ".py",
   "mimetype": "text/x-python",
   "name": "python",
   "nbconvert_exporter": "python",
   "pygments_lexer": "ipython3",
   "version": "3.12.1"
  }
 },
 "nbformat": 4,
 "nbformat_minor": 5
}
